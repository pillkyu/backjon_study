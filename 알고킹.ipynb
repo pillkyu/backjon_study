{
 "cells": [
  {
   "cell_type": "markdown",
   "metadata": {},
   "source": [
    "9월 24일"
   ]
  },
  {
   "cell_type": "code",
   "execution_count": null,
   "metadata": {},
   "outputs": [],
   "source": [
    "# 등수매기기\n",
    "N = int(input())\n",
    "arr = []\n",
    "for _ in range(N):\n",
    "    S = int(input())\n",
    "    arr.append(S)\n",
    "answer = 0\n",
    "\n",
    "arr.sort()\n",
    "\n",
    "for i in range(N):\n",
    "    answer += abs(arr[i]- (i+1))\n",
    "print(answer)\n",
    "#python 3로 할시 시간초과됨. pypy3로 제출 시 시간 초과되지 않음"
   ]
  },
  {
   "cell_type": "code",
   "execution_count": 1,
   "metadata": {},
   "outputs": [],
   "source": [
    "#걷기\n",
    "import sys\n",
    "x, y, w, s = map(int, sys.stdin.readline().strip().split())\n",
    "answer = 0\n",
    "if x ==0 or y ==0:\n",
    "    if w>=s:\n",
    "        if (x+y)%2 == 0:#1차 수정: x+y가 홀수이고 s보다 w가 큰 경우 추가\n",
    "            answer = s * max(x,y)\n",
    "        else:#3차 수정: //2 를 왜 했지...\n",
    "            answer = s * ((x+y)-1) + w\n",
    "    else:\n",
    "        answer = w * max(x,y)\n",
    "else:\n",
    "    if 2*w >= s:\n",
    "        if w>s:\n",
    "            if abs(x-y) % 2 == 0:\n",
    "                answer = s * max(x, y)\n",
    "            else:#2차 수정: 절대값 -1 바깥으로 뺌\n",
    "                answer = s * (max(x,y)-1)+w\n",
    "        else:\n",
    "            answer = s * min(x, y) + w * abs(x-y) \n",
    "    else:\n",
    "        answer = w*(x+y)\n",
    "print(answer)\n",
    "\n",
    "    "
   ]
  },
  {
   "cell_type": "markdown",
   "metadata": {},
   "source": [
    "10,000,000,000,000"
   ]
  }
 ],
 "metadata": {
  "kernelspec": {
   "display_name": "Python 3",
   "language": "python",
   "name": "python3"
  },
  "language_info": {
   "codemirror_mode": {
    "name": "ipython",
    "version": 3
   },
   "file_extension": ".py",
   "mimetype": "text/x-python",
   "name": "python",
   "nbconvert_exporter": "python",
   "pygments_lexer": "ipython3",
   "version": "3.12.0"
  }
 },
 "nbformat": 4,
 "nbformat_minor": 2
}
