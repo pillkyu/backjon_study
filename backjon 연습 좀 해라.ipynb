{
 "cells": [
  {
   "cell_type": "code",
   "execution_count": null,
   "metadata": {},
   "outputs": [],
   "source": [
    "#사분면 문제\n",
    "X = int(input())\n",
    "Y = int(input())\n",
    "if (1000>=X and X>0) and (1000>=Y and Y>0):\n",
    "    print(\"1\")\n",
    "elif (-1000<=X and X<0) and (1000>=Y and Y>0):\n",
    "    print(\"2\")\n",
    "elif (-1000<=X and X<0) and (-1000<=Y and Y<0):\n",
    "    print(\"3\")\n",
    "elif (1000>=X and X>0) and (-1000<=Y and Y<0):\n",
    "    print('4')\n",
    "else:\n",
    "    print('다시 입력해주세요')"
   ]
  },
  {
   "cell_type": "code",
   "execution_count": null,
   "metadata": {},
   "outputs": [],
   "source": []
  },
  {
   "cell_type": "code",
   "execution_count": null,
   "metadata": {},
   "outputs": [],
   "source": [
    "#2884번 알람시계\n",
    "H , M  = map(int,input().split())\n",
    "\n",
    "if 0 <= H <= 23 and 0 <= M <= 59:\n",
    " if M<45:\n",
    "    M = 60+(M-45)\n",
    "    if H == 0:\n",
    "        H = 23\n",
    "    else:\n",
    "        H = H-1\n",
    " else:\n",
    "    M = M-45\n",
    "print(H,M)\n",
    "    "
   ]
  },
  {
   "cell_type": "code",
   "execution_count": null,
   "metadata": {},
   "outputs": [],
   "source": [
    "#2525번 오븐 시계\n",
    "\n",
    "A , B  = map(int,input().split())\n",
    "C = int(input())\n",
    "if C + B > 59:\n",
    "    A = A + (C + B)//60\n",
    "    B = (C+B)%60\n",
    "    \n",
    "    if A>23:\n",
    "        A = A-24\n",
    "else:\n",
    "    B = C + B\n",
    "print(A, B)"
   ]
  },
  {
   "cell_type": "code",
   "execution_count": null,
   "metadata": {},
   "outputs": [],
   "source": [
    "#2480번 주사위 세개\n",
    "A ,B, C  = map(int,input().split())\n",
    "price = 0\n",
    "if A == B ==C:\n",
    "    price = 10000 + A*1000\n",
    "elif A==B or A==C or B==C:\n",
    "    if A==B:\n",
    "        price = 1000+ A*100\n",
    "    elif A==C:\n",
    "        price = 1000+ A*100\n",
    "    else:\n",
    "        price = 1000+B*100\n",
    "else:\n",
    "    list = [A, B, C]\n",
    "    price = max(list)*100\n",
    "print(price)   "
   ]
  },
  {
   "cell_type": "code",
   "execution_count": null,
   "metadata": {},
   "outputs": [],
   "source": [
    "#2739 구구단\n",
    "N = int(input())\n",
    "j = 9\n",
    "for i in range(j):\n",
    "    print(N ,\"*\", i+1, \"=\",  N*(i+1))\n"
   ]
  },
  {
   "cell_type": "code",
   "execution_count": null,
   "metadata": {},
   "outputs": [],
   "source": [
    "#10950번 A + B -3\n",
    "T = int(input())\n",
    "for i in range(T):   \n",
    "    A, B = map(int,input().split())\n",
    "    print(A+B)\n"
   ]
  },
  {
   "cell_type": "code",
   "execution_count": null,
   "metadata": {},
   "outputs": [],
   "source": [
    "#8393 합\n",
    "n = int(input())\n",
    "Total = 0\n",
    "for i in range(n+1):\n",
    "    Total = Total+ i\n",
    "print(Total)"
   ]
  },
  {
   "cell_type": "code",
   "execution_count": null,
   "metadata": {},
   "outputs": [],
   "source": [
    "#25304번 영수증\n",
    "X = int(input())\n",
    "N = int(input())\n",
    "Total = 0\n",
    "for i in range(N):\n",
    "    a, b = map(int, input().split())\n",
    "    Total = Total + a*b\n",
    "if X == Total:\n",
    "    print(\"Yes\")\n",
    "else:\n",
    "    print(\"No\")\n"
   ]
  },
  {
   "cell_type": "code",
   "execution_count": null,
   "metadata": {},
   "outputs": [],
   "source": [
    "#25314 코딩은 체육과목입니다\n",
    "N = int(input())\n",
    "N = int(N / 4)\n",
    "long = \"long\"\n",
    "str = ''\n",
    "for i in range(N):\n",
    "    if i == 0:\n",
    "        str = long\n",
    "    else:\n",
    "        str = str + ' ' + long\n",
    "print(str + ' '+ \"int\")"
   ]
  },
  {
   "cell_type": "code",
   "execution_count": 1,
   "metadata": {},
   "outputs": [
    {
     "name": "stdout",
     "output_type": "stream",
     "text": [
      "2\n",
      "46\n",
      "505\n",
      "100\n",
      "2000\n"
     ]
    }
   ],
   "source": [
    "#15552번 빠른 A+B\n",
    "import sys\n",
    "T = int(sys.stdin.readline())\n",
    "for i in range(T):\n",
    "    A, B = map(int, sys.stdin.readline().split())\n",
    "    print(A+B)\n",
    "    \n"
   ]
  },
  {
   "cell_type": "code",
   "execution_count": 2,
   "metadata": {},
   "outputs": [
    {
     "name": "stdout",
     "output_type": "stream",
     "text": [
      "Case #1: 2\n",
      "Case #2: 5\n",
      "Case #3: 7\n",
      "Case #4: 17\n",
      "Case #5: 7\n"
     ]
    }
   ],
   "source": [
    "#11021번 A+B -7\n",
    "T = int(input())\n",
    "for i in range(T):\n",
    "    A,B = map(int, input().split())\n",
    "    case = str(i+1)\n",
    "    print(\"Case #\"+case+\":\", A+B)"
   ]
  },
  {
   "cell_type": "code",
   "execution_count": 4,
   "metadata": {},
   "outputs": [
    {
     "name": "stdout",
     "output_type": "stream",
     "text": [
      "Case #1: 1 + 1 = 2\n",
      "Case #2: 2 + 5 = 7\n",
      "Case #3: 3 + 6 = 9\n"
     ]
    }
   ],
   "source": [
    "#11022번 A+B -8\n",
    "T = int(input())\n",
    "for i in range(T):\n",
    "    A,B = map(int, input().split())\n",
    "    case = str(i+1)\n",
    "    print(\"Case #\"+case+\":\",A,'+',B,'=',A+B)"
   ]
  },
  {
   "cell_type": "code",
   "execution_count": 6,
   "metadata": {},
   "outputs": [
    {
     "name": "stdout",
     "output_type": "stream",
     "text": [
      "*\n",
      "**\n",
      "***\n"
     ]
    }
   ],
   "source": [
    "#2438번 별 찍기-1\n",
    "N = int(input())\n",
    "for i in range(N):\n",
    "    print('*' * (i+1))"
   ]
  },
  {
   "cell_type": "code",
   "execution_count": 24,
   "metadata": {},
   "outputs": [
    {
     "name": "stdout",
     "output_type": "stream",
     "text": [
      "  *\n",
      " **\n",
      "***\n"
     ]
    }
   ],
   "source": [
    "#2439번 별 찍기-2\n",
    "N = int(input())\n",
    "for i in range(N):\n",
    "    print(' ' * (N-i-1) + ('*' * (i+1)))\n",
    "    "
   ]
  },
  {
   "cell_type": "code",
   "execution_count": 28,
   "metadata": {},
   "outputs": [
    {
     "name": "stdout",
     "output_type": "stream",
     "text": [
      "5\n"
     ]
    }
   ],
   "source": [
    "#10952번 A+B -5\n",
    "while(1):\n",
    "    A,B = map(int, input().split())\n",
    "    if A==0 and B == 0:\n",
    "        break\n",
    "    print(A+B)\n",
    "    "
   ]
  },
  {
   "cell_type": "code",
   "execution_count": 29,
   "metadata": {},
   "outputs": [],
   "source": [
    "#10951번 A+B -4\n",
    "while(1):\n",
    "    try:\n",
    "\n",
    "        a,b=map(int,input().split())\n",
    "\n",
    "        print(a+b)\n",
    "\n",
    "    except:\n",
    "        break\n",
    "        "
   ]
  },
  {
   "cell_type": "code",
   "execution_count": 8,
   "metadata": {},
   "outputs": [
    {
     "name": "stdout",
     "output_type": "stream",
     "text": [
      "1\n"
     ]
    }
   ],
   "source": [
    "#10807번 개수 세기\n",
    "N = int(input())\n",
    "My_list = list(map(int,input().split()))\n",
    "v = int(input())\n",
    "count = 0\n",
    "\n",
    "for i in range(N):\n",
    "    if My_list[i] == v:\n",
    "        count += 1 # +=는 x= x+3, =+는 x = +3이란 의미를 가짐\n",
    "print(count)\n",
    "\n"
   ]
  },
  {
   "cell_type": "code",
   "execution_count": 13,
   "metadata": {},
   "outputs": [
    {
     "name": "stdout",
     "output_type": "stream",
     "text": [
      "1 4 2 3 "
     ]
    }
   ],
   "source": [
    "#10871번 x보다 작은 수\n",
    "N, X = map(int, input().split())\n",
    "A = list(map(int,input().split()))\n",
    "answer = []\n",
    "\n",
    "for i in range(N):\n",
    "    if A[i]<X:\n",
    "        answer.append(A[i])\n",
    "for j in range(len(answer)):\n",
    "    print(answer[j], end=' ')\n",
    "\n"
   ]
  },
  {
   "cell_type": "code",
   "execution_count": 19,
   "metadata": {},
   "outputs": [],
   "source": [
    "#10818번 최소, 최대\n",
    "\n",
    "#1번 너무 오래 걸림\n",
    "# N = int(input())\n",
    "# A = list(map(int,input().split()))\n",
    "# print(min(A), max(A))\n",
    "\n",
    "#2번\n",
    "import os\n",
    "\n",
    "def main():\n",
    "    # os.read(0, 1024)로 읽어서 예제를 테스트\n",
    "    input_data = os.read(0, 1024)\n",
    "    \n",
    "    # 바이트 데이터를 문자열로 변환하고 split으로 분리\n",
    "    tokens = map(int, input_data.decode().split())\n",
    "    \n",
    "    # 첫 번째 값을 초기 최소값, 최대값으로 설정\n",
    "    first_value = next(tokens)\n",
    "    a = first_value\n",
    "    b = first_value\n",
    "    \n",
    "    # 나머지 값을 비교하여 최소값, 최대값 찾기\n",
    "    for x in tokens:\n",
    "        if x < a:\n",
    "            a = x\n",
    "        if x > b:\n",
    "            b = x\n",
    "            \n",
    "    # 결과 출력\n",
    "    os.write(1, (str(a) + ' ' + str(b) + '\\n').encode())\n",
    "    os._exit(0)\n",
    "\n",
    "main()      "
   ]
  },
  {
   "cell_type": "code",
   "execution_count": 4,
   "metadata": {},
   "outputs": [
    {
     "name": "stdout",
     "output_type": "stream",
     "text": [
      "85\n",
      "8\n"
     ]
    }
   ],
   "source": [
    "#2562번 최댓값\n",
    "A = []\n",
    "for i in range(9):\n",
    "    num = int(input())\n",
    "    A.append(num)\n",
    "print(max(A))\n",
    "answer = A.index(max(A)) + 1\n",
    "print(answer)"
   ]
  },
  {
   "cell_type": "code",
   "execution_count": 13,
   "metadata": {},
   "outputs": [
    {
     "name": "stdout",
     "output_type": "stream",
     "text": [
      "1 2 1 1 0 "
     ]
    }
   ],
   "source": [
    "#10810번 공 넣기\n",
    "N, M = map(int, input().split())\n",
    "My_list = []\n",
    "for c in range(N):\n",
    "    My_list.append(0)\n",
    "for _ in range(M):\n",
    "    i, j, k = map(int, input().split())\n",
    "    for a in range (i-1,j):\n",
    "        My_list[a] = k\n",
    "\n",
    "for b in range(len(My_list)):\n",
    "    print(My_list[b], end=' ')        \n"
   ]
  },
  {
   "cell_type": "code",
   "execution_count": 14,
   "metadata": {},
   "outputs": [
    {
     "name": "stdout",
     "output_type": "stream",
     "text": [
      "3 1 4 2 5 "
     ]
    }
   ],
   "source": [
    "#10813번 공바꾸기\n",
    "N, M = map(int, input().split())\n",
    "My_list = []\n",
    "for a in range(N):\n",
    "    My_list.append(a+1)\n",
    "for b in range(M):\n",
    "    i, j= map(int, input().split())\n",
    "    key = My_list[i-1]\n",
    "    My_list[i-1] = My_list[j-1]\n",
    "    My_list[j-1] = key \n",
    "    \n",
    "for c in range(len(My_list)):\n",
    "    print(My_list[c], end=' ')  \n",
    "    \n",
    "    "
   ]
  },
  {
   "cell_type": "code",
   "execution_count": 15,
   "metadata": {},
   "outputs": [],
   "source": [
    "#5597 과제 안내신분\n",
    "My_list = []\n",
    "for a in range(30):\n",
    "    My_list.append(a+1)\n",
    "for b in range(28):\n",
    "    n = int(input())\n",
    "    My_list.remove(n)\n",
    "print(min(My_list))\n",
    "print(max(My_list))\n",
    "    "
   ]
  },
  {
   "cell_type": "code",
   "execution_count": null,
   "metadata": {},
   "outputs": [],
   "source": [
    "#3052 나머지\n",
    "# My_list = []\n",
    "# for a in range(10):\n",
    "#     n = int(input())\n",
    "#     n = n % 42\n",
    "#     My_list.append(n)\n",
    "    \n",
    "# for i in range(10):\n",
    "#     value=My_list.pop(i)\n",
    "#     for j in range(len(My_list)):\n",
    "#         if value == My_list[j]:\n",
    "#             My_list.pop(j)\n",
    "#     My_list.insert(i,value)\n",
    "# print(len(My_list))\n",
    "\n",
    "my_list = []\n",
    "for _ in range(10):\n",
    "    n = int(input())\n",
    "    n = n % 42\n",
    "    my_list.append(n)\n",
    "\n",
    "unique_remainders = set(my_list)\n",
    "print(len(unique_remainders)) #set은 중복을 허용하지 않기 때문에 필터링으로 자주 사용\n",
    "        "
   ]
  },
  {
   "cell_type": "code",
   "execution_count": 16,
   "metadata": {},
   "outputs": [
    {
     "name": "stdout",
     "output_type": "stream",
     "text": [
      "3 4 1 2 5 "
     ]
    }
   ],
   "source": [
    "#10811번 바구니 뒤집기\n",
    "N, M = map(int, input().split())\n",
    "My_list = []\n",
    "Tem_list = []\n",
    "for a in range(N):\n",
    "    My_list.append(a+1)\n",
    "    \n",
    "for b in range(M):\n",
    "    i, j= map(int, input().split())\n",
    "    for c in range(i-1,j):\n",
    "        Tem_list.append(My_list.pop(i-1))\n",
    "    Tem_list.reverse()\n",
    "    for d in range(i-1,j):\n",
    "        My_list.insert(d,Tem_list.pop(0))\n",
    "for e in range(len(My_list)):\n",
    "    print(My_list[e], end=' ')    "
   ]
  },
  {
   "cell_type": "code",
   "execution_count": 25,
   "metadata": {},
   "outputs": [
    {
     "name": "stdout",
     "output_type": "stream",
     "text": [
      "75.0\n"
     ]
    }
   ],
   "source": [
    "#1546번 평균\n",
    "N = int(input())\n",
    "My_list = list(map(int, input().split()))\n",
    "M = max(My_list)\n",
    "Total = 0.0\n",
    "\n",
    "\n",
    "def mani_score(M,input):\n",
    "    output = input/M*100\n",
    "    return output\n",
    "\n",
    "for i in My_list:\n",
    "    i = mani_score(M,i)\n",
    "    Total += i\n",
    "avg = Total/N\n",
    "print(avg)"
   ]
  },
  {
   "cell_type": "markdown",
   "metadata": {},
   "source": [
    "#27866 문자와 문자열\n",
    "S = str(input())\n",
    "i = int(input())\n",
    "print(S[i-1])\n",
    "\n",
    "#2743번 단어 길이 재기\n",
    "S = str(input())\n",
    "print(len(S))\n",
    "\n",
    "#9086 문자열\n",
    "T = int(input())\n",
    "for i in range(T):\n",
    "    S = str(input())\n",
    "    print(S[0]+S[-1])"
   ]
  },
  {
   "cell_type": "code",
   "execution_count": 34,
   "metadata": {},
   "outputs": [
    {
     "name": "stdout",
     "output_type": "stream",
     "text": [
      "66\n"
     ]
    }
   ],
   "source": [
    "#11654번 아스키 코드\n",
    "a= str(input())\n",
    "print(ord(a))\n",
    "## 숫자를 문자로 변형하는 건 chr, 문자를 숫자로 변형하는 건 ord입니다 "
   ]
  },
  {
   "cell_type": "code",
   "execution_count": 37,
   "metadata": {},
   "outputs": [
    {
     "name": "stdout",
     "output_type": "stream",
     "text": [
      "15\n"
     ]
    }
   ],
   "source": [
    "#11720번 숫자의 합\n",
    "N = int(input())\n",
    "S = str(input())\n",
    "Total = 0\n",
    "for i in range(N):\n",
    "    Total += int(S[i])\n",
    "print(Total)"
   ]
  },
  {
   "cell_type": "code",
   "execution_count": 43,
   "metadata": {},
   "outputs": [
    {
     "name": "stdout",
     "output_type": "stream",
     "text": [
      "1 0 -1 -1 2 -1 -1 -1 -1 4 3 -1 -1 7 5 -1 -1 -1 -1 -1 -1 -1 -1 -1 -1 -1 "
     ]
    }
   ],
   "source": [
    "#10809번 알파벳 찾기\n",
    "S = str(input())\n",
    "output = []\n",
    "for i in range(97,123):\n",
    "    output.append(chr(i))\n",
    "for j in range(len(output)):\n",
    "    if S.find(output[j]) == -1:\n",
    "        output[j] = -1\n",
    "    else:\n",
    "        output[j] = S.find(output[j])\n",
    "for k in output:\n",
    "    print(k, end =' ')"
   ]
  },
  {
   "cell_type": "code",
   "execution_count": null,
   "metadata": {},
   "outputs": [],
   "source": [
    "#2675 문자열 반복\n",
    "T = int(input())\n",
    "for j in range(T):\n",
    "        R, S = map(str, input().split())\n",
    "        result = ''\n",
    "        for i in range(len(S)):\n",
    "            result += S[i]*int(R)\n",
    "        print(result)\n"
   ]
  },
  {
   "cell_type": "code",
   "execution_count": 24,
   "metadata": {},
   "outputs": [
    {
     "name": "stdout",
     "output_type": "stream",
     "text": [
      "1\n"
     ]
    }
   ],
   "source": [
    "#1152번 단어의 개수\n",
    "# T = str(input())\n",
    "# count = 0\n",
    "# for i in range(len(T)):\n",
    "#     if T[i] == \" \":\n",
    "#         if i == len(T)-1:\n",
    "#             break\n",
    "#         elif T[i+1] != \" \" and T[i-1] != \" \":\n",
    "#             if i == 0:\n",
    "#                 continue\n",
    "#             else:\n",
    "#                 count += 1\n",
    "# print(count + 1)\n",
    "        \n",
    "T = input().strip()#공백 제거\n",
    "if len(T) == 0:\n",
    "    print(0)\n",
    "else:\n",
    "    words = T.split()\n",
    "    print(len(words))\n"
   ]
  },
  {
   "cell_type": "code",
   "execution_count": 19,
   "metadata": {},
   "outputs": [
    {
     "name": "stdout",
     "output_type": "stream",
     "text": [
      "437\n"
     ]
    }
   ],
   "source": [
    "#2908번 상수\n",
    "A, B = map(str, input().split())\n",
    "A = list(A)\n",
    "B = list(B)\n",
    "A.reverse()\n",
    "B.reverse()\n",
    "result_A = ''\n",
    "result_B = ''\n",
    "for i in range(len(A)):\n",
    "    result_A += A[i]\n",
    "    result_B += B[i]\n",
    "if int(result_A)>int(result_B):\n",
    "    print(int(result_A))\n",
    "else:\n",
    "    print(int(result_B))\n",
    "    \n",
    "# a,b = [ int(x[::-1]) for x in input().split()]\n",
    "# print(a if a>b else b) \n",
    "#훨씬 더 간결하고 짧게 하는 방법"
   ]
  },
  {
   "cell_type": "code",
   "execution_count": 27,
   "metadata": {},
   "outputs": [
    {
     "name": "stdout",
     "output_type": "stream",
     "text": [
      "2\n",
      "13\n"
     ]
    }
   ],
   "source": [
    "#5622번 다이얼\n",
    "dit = {2:['A','B','C'], 3:['D','E','F'], 4:['G', 'H','I'], 5:['J','K','L'],\n",
    "       6:['M','N','O'],7:['P','Q','R','S'],8:['T','U','V'],9:['W','X','Y','Z']}\n",
    "count = 0\n",
    "def get_key(val, dictionary):\n",
    "    for key, value in dictionary.items():\n",
    "        if val in value:\n",
    "            return key\n",
    "    return None\n",
    "#\n",
    "\n",
    "S = list(input())\n",
    "for i in S:\n",
    "     count += get_key(i,dit)+1\n",
    "print(count)"
   ]
  },
  {
   "cell_type": "code",
   "execution_count": 1,
   "metadata": {},
   "outputs": [],
   "source": [
    "#11718번 그대로 출력하기\n",
    "while(True):\n",
    "    try:\n",
    "        print(input())\n",
    "    except EOFError:\n",
    "        break\n",
    "    "
   ]
  },
  {
   "cell_type": "code",
   "execution_count": 2,
   "metadata": {},
   "outputs": [
    {
     "name": "stdout",
     "output_type": "stream",
     "text": [
      "         ,r'\"7\n",
      "r`-_   ,'  ,/\n",
      " \\. \". L_r'\n",
      "   `~\\/\n",
      "      |\n",
      "      |\n"
     ]
    }
   ],
   "source": [
    "#25083번 새싹\n",
    "print('''\\\n",
    "         ,r'\"7\n",
    "r`-_   ,'  ,/\n",
    " \\. \". L_r'\n",
    "   `~\\/\n",
    "      |\n",
    "      |''')"
   ]
  },
  {
   "cell_type": "code",
   "execution_count": 5,
   "metadata": {},
   "outputs": [
    {
     "name": "stdout",
     "output_type": "stream",
     "text": [
      "-1 0 0 1 0 7 "
     ]
    }
   ],
   "source": [
    "#3003번 킹...\n",
    "domain_chess = [1,1,2,2,2,8]\n",
    "remain_chess = list(map(int, input().split()))\n",
    "for i in range(6):\n",
    "    print(domain_chess[i] - remain_chess[i], end =' ')"
   ]
  },
  {
   "cell_type": "code",
   "execution_count": 24,
   "metadata": {},
   "outputs": [
    {
     "name": "stdout",
     "output_type": "stream",
     "text": [
      "    *\n",
      "   ***\n",
      "  *****\n",
      " *******\n",
      "*********\n",
      " *******\n",
      "  *****\n",
      "   ***\n",
      "    *\n"
     ]
    }
   ],
   "source": [
    "#2444번 별 찍기-7\n",
    "N = int(input())\n",
    "\n",
    "for i in range (N):\n",
    "    print(' '*(N-i-1)+'*'*(2*i+1))\n",
    "for j in range(N-1):\n",
    "    print(' '*(j+1) + '*'*(2*N-3-2*j))\n",
    "        #7 5 3 1 2(N-1-i)-1"
   ]
  },
  {
   "cell_type": "code",
   "execution_count": 7,
   "metadata": {},
   "outputs": [
    {
     "name": "stdout",
     "output_type": "stream",
     "text": [
      "0\n"
     ]
    }
   ],
   "source": [
    "#10988 팰린드롬인지 확인하기\n",
    "import math\n",
    "word = input()\n",
    "count = 0\n",
    "for i in range(math.floor((len(word))/2)):\n",
    "    if word[i] == word[-1-i]:\n",
    "        count += 1\n",
    "        continue\n",
    "    else:\n",
    "        print(0)\n",
    "        break\n",
    "if count == math.floor((len(word))/2):\n",
    "    print(1)"
   ]
  },
  {
   "cell_type": "code",
   "execution_count": 25,
   "metadata": {},
   "outputs": [
    {
     "name": "stdout",
     "output_type": "stream",
     "text": [
      "Counter({'S': 4, 'I': 3, 'M': 1, 'P': 1})\n",
      "S\n"
     ]
    }
   ],
   "source": [
    "#1157번 단어공부\n",
    "from collections import Counter\n",
    "\n",
    "# 입력 단어를 대문자로 변환\n",
    "word = input().upper()\n",
    "\n",
    "# 단어 빈도 세기\n",
    "counter = Counter(word)\n",
    "# 최빈값 찾기\n",
    "max_count = max(counter.values())\n",
    "most_common = [k for k, v in counter.items() if v == max_count]\n",
    "\n",
    "# 최빈값이 하나인지 확인\n",
    "if len(most_common) == 1:\n",
    "    print(most_common[0])\n",
    "else:\n",
    "    print('?')"
   ]
  },
  {
   "cell_type": "code",
   "execution_count": 41,
   "metadata": {},
   "outputs": [
    {
     "name": "stdout",
     "output_type": "stream",
     "text": [
      "3\n"
     ]
    }
   ],
   "source": [
    "#2941번 크로아티아 알파벳\n",
    "N = input()\n",
    "word_list = ['c=',\"c-\", 'dz=','d-', 'lj','nj','s=', 'z=']\n",
    "count = 0\n",
    "for i in range(len(word_list)):\n",
    "    if word_list[i] in N:\n",
    "        if N.count(word_list[i]) >= 2:\n",
    "            count += N.count(word_list[i])\n",
    "        else:\n",
    "            count += 1\n",
    "        N = N.replace(word_list[i],\" \")\n",
    "answer = len(N.replace(\" \",\"\")) + count\n",
    "print(answer)"
   ]
  },
  {
   "cell_type": "code",
   "execution_count": 59,
   "metadata": {},
   "outputs": [
    {
     "name": "stdout",
     "output_type": "stream",
     "text": [
      "0\n",
      "0\n",
      "0\n",
      "1\n",
      "1\n"
     ]
    }
   ],
   "source": [
    "#1316번 그룹 단어 체커\n",
    "N = int(input())\n",
    "counter = 0\n",
    "for i in range(N):\n",
    "    sen = input()\n",
    "    counter += 1\n",
    "    for j in range(len(sen)-1):\n",
    "        if sen[j] == sen[j+1]:\n",
    "            continue\n",
    "        elif (sen[j] != sen[j+1]) and (sen[j] in sen[j+1:len(sen)]):\n",
    "            counter -= 1\n",
    "            break\n",
    "        else:\n",
    "            continue\n",
    "\n",
    "print(counter)\n",
    "            \n",
    "    "
   ]
  },
  {
   "cell_type": "code",
   "execution_count": null,
   "metadata": {},
   "outputs": [],
   "source": [
    "#25206번 너의 평점은\n",
    "Total  = 0\n",
    "Total_score = 0.0\n",
    "def GPAcal(score):\n",
    "    if score == 'A+':\n",
    "        return 4.5\n",
    "    elif score == 'A0':\n",
    "        return 4.0\n",
    "    elif score == 'B+':\n",
    "        return 3.5\n",
    "    elif score == 'B0':\n",
    "        return 3.0\n",
    "    elif score == 'C+':\n",
    "        return 2.5\n",
    "    elif score == 'C0':\n",
    "        return 2.0\n",
    "    elif score == 'D+':\n",
    "        return 1.5\n",
    "    elif score == 'D0':\n",
    "        return 1.0\n",
    "    else:\n",
    "        return 0.0\n",
    "    \n",
    "        \n",
    "for i in range(20):\n",
    "    sub = list(map(str,input().split()))\n",
    "    if sub[2] == 'P':\n",
    "        continue\n",
    "    else:\n",
    "        Total +=float(sub[1])\n",
    "        Total_score += GPAcal(sub[2]) * float(sub[1])\n",
    "rounding_num = round(Total_score/Total,6)\n",
    "print(Total_score/Total)"
   ]
  },
  {
   "cell_type": "code",
   "execution_count": 89,
   "metadata": {},
   "outputs": [
    {
     "name": "stdout",
     "output_type": "stream",
     "text": [
      "4 4 4\n",
      "6 6 6\n",
      "5 6 100\n"
     ]
    }
   ],
   "source": [
    "#2738번 행렬 덧셈\n",
    "N,M = map(int, input().split())\n",
    "list_A = [[0] * M for _ in range(N)]\n",
    "list_B = [[0] * M for _ in range(N)]\n",
    "for i in range(N):\n",
    "    list_A[i] = list(map(int,input().split()))\n",
    "for j in range(N):\n",
    "    list_B[j] = list(map(int,input().split()))\n",
    "def sumMatrix(A,B):\n",
    "    zipped = zip(A,B)\n",
    "    answer = [[c+d for c,d in zip(a,b)]for a, b in zipped]\n",
    "    return answer\n",
    "final = sumMatrix(list_A,list_B)\n",
    "for row in final:\n",
    "    for element in row:\n",
    "        print(element, end=\" \")\n",
    "    print()\n",
    "    \n",
    "\n",
    "\n"
   ]
  },
  {
   "cell_type": "code",
   "execution_count": null,
   "metadata": {},
   "outputs": [],
   "source": [
    "#2566 최댓값\n",
    "max_ans, max_col = 0,0\n",
    "vs_ans, vs_col = 0,0\n",
    "max_row = 1\n",
    "matrix = [[0]*9 for _ in range(9)]\n",
    "for i in range(9):\n",
    "    matrix[i] = list(map(int,input().split()))\n",
    "    \n",
    "max_ans=max(matrix[0])\n",
    "max_col=matrix[0].index(max_ans)\n",
    "for j in range(len(matrix)-1):\n",
    "    if max(matrix[j+1])> max_ans:\n",
    "        max_ans = max(matrix[j+1])\n",
    "        max_col =matrix[j+1].index(max_ans)\n",
    "        max_row =j+2\n",
    "    else:\n",
    "        continue\n",
    "print(max_ans)\n",
    "print(max_row, max_col+1)\n",
    "\n",
    "    \n",
    "        \n",
    "        \n",
    "        "
   ]
  },
  {
   "cell_type": "code",
   "execution_count": 3,
   "metadata": {},
   "outputs": [
    {
     "name": "stdout",
     "output_type": "stream",
     "text": [
      "Aa0aPAf985Bz1EhCz2W3D1gkD6x"
     ]
    }
   ],
   "source": [
    "#10798번 세로읽기\n",
    "arr = []\n",
    "reverse_arr = []\n",
    "len_list = []\n",
    "for _ in range(5):\n",
    "    arr.append(list(input()))\n",
    "for j in range(5):\n",
    "    len_list.append(len(arr[j]))\n",
    "for _ in range(max(len_list)):\n",
    "    for i in range(5):\n",
    "        if len(arr[i]) == 0: \n",
    "            continue\n",
    "        else:\n",
    "            reverse_arr.append(arr[i].pop(0)) \n",
    "for k in reverse_arr:\n",
    "    print(k, end='')\n"
   ]
  },
  {
   "cell_type": "code",
   "execution_count": 7,
   "metadata": {},
   "outputs": [
    {
     "name": "stdout",
     "output_type": "stream",
     "text": [
      "236\n"
     ]
    }
   ],
   "source": [
    "#2563번 색종이\n",
    "# N = int(input())\n",
    "# arr =[]\n",
    "# total = 0\n",
    "# for i in range(N):\n",
    "#     arr.append(list(map(int, input().split())))\n",
    "#     total += 100\n",
    "#     if i > 0:\n",
    "#         for j in range(i):\n",
    "#             if (arr[j][0]<arr[i][0]<arr[j][0]+10) and (arr[j][1]<arr[i][1]+10<arr[j][1]+10):\n",
    "#                 total -= (10-arr[i][0]+arr[j][0]) * (10+arr[i][0]-arr[j][1])\n",
    "                \n",
    "#             elif (arr[j][0]<arr[i][0]+10<arr[j][0]+10) and (arr[j][1]<arr[i][1]+10<arr[j][1]+10):\n",
    "#                 total -= (10+arr[i][0]-arr[j][0]) * (10+arr[i][0]-arr[j][1])\n",
    "                \n",
    "#             elif (arr[j][0]<arr[i][0]+10<arr[j][0]+10) and (arr[j][1]<arr[i][1]<arr[j][1]+10):\n",
    "#                 total -= (10+arr[i][0]-arr[j][0]) * (10-arr[i][0]+arr[j][1])\n",
    "                \n",
    "#             elif (arr[j][0]<arr[i][0]<arr[j][0]+10) and (arr[j][1]<arr[i][1]<arr[j][1]+10):\n",
    "#                 total -= (10-arr[i][0]+arr[j][0]) * (10-arr[i][0]+arr[j][1])\n",
    "# print(total)\n",
    "\n",
    "#지랄의 최종작\n",
    "\n",
    "# 2563번 색종이\n",
    "N = int(input())\n",
    "paper = [[0] * 100 for _ in range(100)]\n",
    "total = 0\n",
    "\n",
    "for _ in range(N):\n",
    "    x, y = map(int, input().split())\n",
    "    for i in range(x, x + 10):\n",
    "        for j in range(y, y + 10):\n",
    "            if paper[i][j] == 0:\n",
    "                paper[i][j] = 1\n",
    "                total += 1\n",
    "\n",
    "print(total)\n",
    "   \n"
   ]
  },
  {
   "cell_type": "code",
   "execution_count": 21,
   "metadata": {},
   "outputs": [
    {
     "name": "stdout",
     "output_type": "stream",
     "text": [
      "60466175\n"
     ]
    }
   ],
   "source": [
    "#2745번 진법 변환\n",
    "N, B = map(str, input().split())\n",
    "answer = 0\n",
    "B = int(B)\n",
    "for i in range(len(N)):\n",
    "    if B <11:\n",
    "        answer += int(N[i])*(B**(len(N)-i-1))\n",
    "    else:\n",
    "        if ord(N[i])<58:\n",
    "            answer += int(N[i])*(B**(len(N)-i-1))\n",
    "        elif ord(N[i]) > 64:\n",
    "            answer += (ord(N[i])-55)*(B**(len(N)-i-1))\n",
    "print(answer)\n",
    "    \n",
    "        "
   ]
  },
  {
   "cell_type": "code",
   "execution_count": 32,
   "metadata": {},
   "outputs": [
    {
     "name": "stdout",
     "output_type": "stream",
     "text": [
      "ZZZZZ"
     ]
    }
   ],
   "source": [
    "#11005번 진법 변환2\n",
    "chars = '0123456789ABCDEFGHIJKLMNOPQRSTUVWXYZ'\n",
    "N, B = map(int, input().split())\n",
    "answer = []\n",
    "while(1):\n",
    "    if N > 0:\n",
    "        answer.insert(0,N % B)\n",
    "        N = N//B\n",
    "    else:\n",
    "        break\n",
    "for i in answer:\n",
    "    print(chars[i], end ='')\n"
   ]
  },
  {
   "cell_type": "code",
   "execution_count": 37,
   "metadata": {},
   "outputs": [
    {
     "name": "stdout",
     "output_type": "stream",
     "text": [
      "4 2 0 4 \n",
      "1 0 0 0 \n",
      "7 1 1 4 \n"
     ]
    }
   ],
   "source": [
    "#2720번 세탁소 사장 동혁\n",
    "T = int(input())\n",
    "answer = [0,0,0,0]\n",
    "\n",
    "\n",
    "def calculate(case, answer):\n",
    "    while case > 0:\n",
    "        if case >= 25:\n",
    "            answer[0] = case //25\n",
    "            case = case % 25\n",
    "        elif case >= 10:\n",
    "            answer[1] = case //10\n",
    "            case = case % 10\n",
    "        elif case >= 5:\n",
    "            answer[2] = case // 5\n",
    "            case = case % 5\n",
    "        else:  \n",
    "            answer[3] = case\n",
    "            case = 0\n",
    "    return answer\n",
    "    \n",
    "for i in range(T):\n",
    "    case = int(input())\n",
    "    answer = [0,0,0,0]\n",
    "    calculate(case,answer)\n",
    "    for j in answer:\n",
    "        print(j, end = ' ')\n",
    "    print()    "
   ]
  },
  {
   "cell_type": "code",
   "execution_count": 72,
   "metadata": {},
   "outputs": [
    {
     "name": "stdout",
     "output_type": "stream",
     "text": [
      "1089\n"
     ]
    }
   ],
   "source": [
    "#2903번 중앙 이동 알고리즘\n",
    "#3 5 9 17 33\n",
    "N = int(input())\n",
    "answer = 0\n",
    "def total(i):\n",
    "    if i == 1:\n",
    "        return 3\n",
    "    else:\n",
    "        return 2**(i-1)\n",
    "for i in range(N):\n",
    "    answer += total(i+1)\n",
    "print(answer ** 2)"
   ]
  },
  {
   "cell_type": "code",
   "execution_count": 28,
   "metadata": {},
   "outputs": [
    {
     "name": "stdout",
     "output_type": "stream",
     "text": [
      "3\n"
     ]
    }
   ],
   "source": [
    "#2292번 벌집\n",
    "N = int(input())#0*6+1 1*6+1 3*6+1 6*6+1 10\n",
    "arr = []\n",
    "count = 0\n",
    "while_count = 0\n",
    "arr.append(1)\n",
    "while(1):\n",
    "    if N<= arr[while_count]:\n",
    "        print(while_count+1)\n",
    "        break\n",
    "    while_count += 1\n",
    "    count += while_count\n",
    "    arr.append(count*6 + 1)\n",
    "    \n",
    "    \n"
   ]
  },
  {
   "cell_type": "code",
   "execution_count": 5,
   "metadata": {},
   "outputs": [
    {
     "name": "stdout",
     "output_type": "stream",
     "text": [
      "[[0, 0, '1/3'], [0, '2/2'], ['3/1']]\n",
      "2/2\n"
     ]
    }
   ],
   "source": [
    "#1193번 분수찾기\n",
    "N = int(input())\n",
    "count = 0\n",
    "min_count = 0\n",
    "answer = 0\n",
    "while(1):\n",
    "    min_count += 1\n",
    "    count += min_count\n",
    "    if N <= count:\n",
    "        break\n",
    "arr = [[0 for i in range(min_count-j)]for j in range(min_count)]\n",
    "for i in range(min_count):\n",
    "    arr[i][-1] =  str(i+1)+\"/\"+str(min_count-i)\n",
    "\n",
    "if min_count % 2 == 0:\n",
    "    print(arr[N-(count - min_count)-1][-1])\n",
    "else:\n",
    "    print(arr[count-N][-1])\n"
   ]
  },
  {
   "cell_type": "code",
   "execution_count": 38,
   "metadata": {},
   "outputs": [
    {
     "name": "stdout",
     "output_type": "stream",
     "text": [
      "999999901\n"
     ]
    }
   ],
   "source": [
    "#2869번 달팽이는 올라가고 싶다\n",
    "import math\n",
    "A,B,V = map(int, input().split())\n",
    "date = 0\n",
    "date = math.ceil((V-A)/(A-B))\n",
    "\n",
    "print(date+1)\n",
    "        "
   ]
  },
  {
   "cell_type": "code",
   "execution_count": 5,
   "metadata": {},
   "outputs": [],
   "source": [
    "#5086번 배수와 약수\n",
    "while(1):\n",
    "    \n",
    "    N, M = map(int, input().split())\n",
    "    if N ==0 and M ==0:\n",
    "        break\n",
    "    if M % N == 0:\n",
    "        print('factor')\n",
    "    elif N % M == 0:\n",
    "        print('multiple')\n",
    "    elif N ==0 and M ==0:\n",
    "        break\n",
    "    else:\n",
    "        print('neither')"
   ]
  },
  {
   "cell_type": "code",
   "execution_count": 10,
   "metadata": {},
   "outputs": [
    {
     "name": "stdout",
     "output_type": "stream",
     "text": [
      "1\n"
     ]
    }
   ],
   "source": [
    "#2501번 약수구하기\n",
    "N, K = map(int, input().split())\n",
    "arr =[]\n",
    "for i in range(N+1):\n",
    "    if N % (i+1) == 0:\n",
    "        arr.append(i+1)\n",
    "if len(arr)<K:\n",
    "    print(0)\n",
    "else:\n",
    "    print(arr[K-1])"
   ]
  },
  {
   "cell_type": "code",
   "execution_count": 26,
   "metadata": {},
   "outputs": [
    {
     "name": "stdout",
     "output_type": "stream",
     "text": [
      "[1, 2, 3]\n",
      "6 = 1 + 2 + 3 \n",
      "[1, 2, 3, 4, 6]\n",
      "12 is NOT perfect.\n",
      "[1, 2, 4, 7, 14]\n",
      "28 = 1 + 2 + 4 + 7 + 14 \n"
     ]
    }
   ],
   "source": [
    "#9506번 약수들의 합\n",
    "arr =[]\n",
    "while(1):\n",
    "    arr.clear()\n",
    "    n = int(input())\n",
    "    total = 0\n",
    "    if n == -1:\n",
    "        break\n",
    "    else:\n",
    "        for i in range(n-1):\n",
    "            if n%(i+1) == 0:\n",
    "                arr.append(i+1)\n",
    "                total += i+1\n",
    "        if total == n:\n",
    "            \n",
    "            print(n,'=', end=' ')\n",
    "            for j in arr:\n",
    "                print(j, end=' ')\n",
    "                if j == arr[-1]:\n",
    "                    print('')\n",
    "                else:\n",
    "                    print('+', end = ' ')\n",
    "\n",
    "        else:\n",
    "            print(n, 'is NOT perfect.')\n",
    "            "
   ]
  },
  {
   "cell_type": "code",
   "execution_count": 59,
   "metadata": {},
   "outputs": [
    {
     "name": "stdout",
     "output_type": "stream",
     "text": [
      "2\n"
     ]
    }
   ],
   "source": [
    "#1978번 소수 찾기\n",
    "N = int(input())\n",
    "count = 0\n",
    "arr =list(map(int, input().split()))\n",
    "for i in arr:\n",
    "    bucket = []\n",
    "    for j in range(i+1):\n",
    "        if i%(j+1) == 0:\n",
    "            bucket.append(j+1)\n",
    "    if len(bucket) == 1:\n",
    "        continue\n",
    "    elif bucket[0] == 1 and bucket[1]== i:\n",
    "        count +=1\n",
    "print(count)"
   ]
  },
  {
   "cell_type": "code",
   "execution_count": 49,
   "metadata": {},
   "outputs": [
    {
     "name": "stdout",
     "output_type": "stream",
     "text": [
      "620\n",
      "61\n"
     ]
    }
   ],
   "source": [
    "#2581번 소수\n",
    "N = int(input())\n",
    "M = int(input())\n",
    "prime =[]\n",
    "total = 0\n",
    "for i in range(N,M+1):\n",
    "    count =0\n",
    "    for j in range(2,i+1):\n",
    "        if i%j == 0:\n",
    "            count += 1\n",
    "    if count == 1:\n",
    "        prime.append(i)\n",
    "if len(prime) == 0:\n",
    "    print(-1)\n",
    "else:\n",
    "    for k in prime:\n",
    "        total += k\n",
    "    print(total)\n",
    "    print(min(prime))"
   ]
  },
  {
   "cell_type": "code",
   "execution_count": 65,
   "metadata": {},
   "outputs": [],
   "source": [
    "#11653번 소인수분해\n",
    "N = int(input())\n",
    "def prime_num(N):\n",
    "    prime =[]\n",
    "    count =0\n",
    "    for i in range(2,N+1):\n",
    "        if N % i ==0:\n",
    "            count += 1\n",
    "            prime.append(i)\n",
    "    if count == 1:\n",
    "        return None\n",
    "    elif count > 1:\n",
    "        return prime[0]\n",
    "\n",
    "while N !=0:\n",
    "    if N == 1:\n",
    "        break\n",
    "    answer = prime_num(N)\n",
    "    if answer == None:\n",
    "        print(N)\n",
    "        N = 0\n",
    "    else:\n",
    "        print(answer)\n",
    "        N = N // answer\n",
    "#이렇게 하면 엄청 오래 걸림\n",
    "# import math\n",
    "\n",
    "# N = int(input())\n",
    "\n",
    "# def factorization(n):\n",
    "#     for i in range(2, int(math.sqrt(n)) + 1):\n",
    "#         while n % i == 0:\n",
    "#             print(i)\n",
    "#             n //= i\n",
    "\n",
    "#     if n != 1:\n",
    "#         print(n)\n",
    "\n",
    "# factorization(N) 이렇게 하면 더 빠름 어짜피 나눠지는 최소수는 2니까 범위를 전체로 지정하는 건 의미가 없지"
   ]
  },
  {
   "cell_type": "code",
   "execution_count": 3,
   "metadata": {},
   "outputs": [
    {
     "name": "stdout",
     "output_type": "stream",
     "text": [
      "347\n"
     ]
    }
   ],
   "source": [
    "#1085번 직사각형에서 탈출\n",
    "x, y, w, h = map(int, input().split())\n",
    "arr = [w-x, h-y, x, y]\n",
    "print(min(arr))"
   ]
  },
  {
   "cell_type": "code",
   "execution_count": 6,
   "metadata": {},
   "outputs": [
    {
     "name": "stdout",
     "output_type": "stream",
     "text": [
      "30 10\n"
     ]
    }
   ],
   "source": [
    "#3009번 네 번째 점\n",
    "arr = []\n",
    "for i in range(3):\n",
    "    small = list(map(int, input().split()))\n",
    "    arr.append(small)\n",
    "x, y = 0, 0\n",
    "for j in range(2):\n",
    "    if arr[0][j] == arr[1][j]:\n",
    "        if j == 0:\n",
    "            x = arr[2][j]\n",
    "        else:\n",
    "            y = arr[2][j]\n",
    "    elif arr[0][j] == arr[2][j]:\n",
    "        if j == 0:\n",
    "            x = arr[1][j]\n",
    "        else:\n",
    "            y = arr[1][j]\n",
    "    else:\n",
    "        if j == 0:\n",
    "            x = arr[0][j]\n",
    "        else:\n",
    "            y = arr[0][j]\n",
    "\n",
    "print(x, y)"
   ]
  },
  {
   "cell_type": "code",
   "execution_count": 10,
   "metadata": {},
   "outputs": [
    {
     "name": "stdout",
     "output_type": "stream",
     "text": [
      "16\n"
     ]
    }
   ],
   "source": [
    "#15894번 수학은 체육과목입니다\n",
    "n = int(input())\n",
    "answer = 3*n +n\n",
    "print(answer)"
   ]
  },
  {
   "cell_type": "code",
   "execution_count": 11,
   "metadata": {},
   "outputs": [
    {
     "name": "stdout",
     "output_type": "stream",
     "text": [
      "360\n"
     ]
    }
   ],
   "source": [
    "#9063번 대지\n",
    "N = int(input())\n",
    "arr_X =[]\n",
    "arr_Y =[]\n",
    "answer = 0\n",
    "for i in range(N):\n",
    "    x,y = map(int, input().split())\n",
    "    arr_X.append(x)\n",
    "    arr_Y.append(y)\n",
    "answer = (max(arr_X) - min(arr_X)) * (max(arr_Y) - min(arr_Y))\n",
    "print(answer)\n",
    "\n"
   ]
  },
  {
   "cell_type": "code",
   "execution_count": 15,
   "metadata": {},
   "outputs": [
    {
     "name": "stdout",
     "output_type": "stream",
     "text": [
      "error\n"
     ]
    }
   ],
   "source": [
    "#10101번 삼각형 외우기\n",
    "arr = []\n",
    "total =0\n",
    "for i in range(3):\n",
    "    arr.append(int(input()))\n",
    "    total += arr[i]\n",
    "if total != 180:\n",
    "    print('Error')\n",
    "else:\n",
    "    if arr[0] == arr[1] == arr[2]:\n",
    "        print('Equilateral')\n",
    "    elif arr[0] == arr[1] or arr[1]== arr[2] or arr[0] ==arr[2]:\n",
    "        print('Isosceles')\n",
    "    else:\n",
    "        print('Scalene')    \n"
   ]
  },
  {
   "cell_type": "code",
   "execution_count": 3,
   "metadata": {},
   "outputs": [
    {
     "name": "stdout",
     "output_type": "stream",
     "text": [
      "Invalid\n",
      "Invalid\n",
      "Isosceles\n"
     ]
    }
   ],
   "source": [
    "#5073번 삼각형과 세 변\n",
    "while(1):\n",
    "    arr = list(map(int, input().split()))\n",
    "    w = len(set(arr))\n",
    "    if arr == [0,0,0]:\n",
    "        break\n",
    "    elif max(arr)>=(arr[0]+arr[1]+arr[2])/2:\n",
    "        print('Invalid')\n",
    "    else:\n",
    "        if w == 3:\n",
    "            print('Scalene')\n",
    "        elif w == 2:\n",
    "            print('Isosceles')\n",
    "        elif w == 1:\n",
    "            print('Equilateral')"
   ]
  },
  {
   "cell_type": "code",
   "execution_count": 17,
   "metadata": {},
   "outputs": [
    {
     "name": "stdout",
     "output_type": "stream",
     "text": [
      "3\n"
     ]
    }
   ],
   "source": [
    "#14215번 세 막대\n",
    "arr = list(map(int, input().split()))\n",
    "total = arr[0]+arr[1]+arr[2]\n",
    "arr.sort()\n",
    "if max(arr)<(total)/2:\n",
    "    print(total)\n",
    "else:\n",
    "    arr[2] = arr[0]+arr[1]-1\n",
    "    total = arr[0]+arr[1]+arr[2]\n",
    "    print(total)\n",
    "    "
   ]
  },
  {
   "cell_type": "code",
   "execution_count": 18,
   "metadata": {},
   "outputs": [
    {
     "name": "stdout",
     "output_type": "stream",
     "text": [
      "1\n",
      "0\n"
     ]
    }
   ],
   "source": [
    "# #24262번 알고리즘 수업 - 알고리즘의 수행 시간 1\n",
    "# import math\n",
    "# def MenOfPassion(n):\n",
    "#     i = math.floor(n/2)\n",
    "#     return i\n",
    "# n = int(input())\n",
    "# print(n)\n",
    "# print(MenOfPassion(n))\n",
    "print(1)\n",
    "print(0)\n"
   ]
  },
  {
   "cell_type": "code",
   "execution_count": 1,
   "metadata": {},
   "outputs": [
    {
     "name": "stdout",
     "output_type": "stream",
     "text": [
      "7\n",
      "1\n"
     ]
    }
   ],
   "source": [
    "#24263번 알고리즘 수업- 알고리즘의 수행시간 2\n",
    "n = int(input())\n",
    "print(n)\n",
    "print(1)"
   ]
  },
  {
   "cell_type": "code",
   "execution_count": null,
   "metadata": {},
   "outputs": [],
   "source": [
    "#24263번 알고리즘 수업- 알고리즘의 수행시간 3\n",
    "n = int(input())\n",
    "print(n**2)\n",
    "print(2)"
   ]
  },
  {
   "cell_type": "code",
   "execution_count": 3,
   "metadata": {},
   "outputs": [
    {
     "name": "stdout",
     "output_type": "stream",
     "text": [
      "21\n",
      "2\n"
     ]
    }
   ],
   "source": [
    "#24263번 알고리즘 수업- 알고리즘의 수행시간 4\n",
    "n = int(input())\n",
    "\n",
    "print(int(n*(n-1)/2))\n",
    "print(2)\n",
    "#1 234567 2 34567 "
   ]
  },
  {
   "cell_type": "code",
   "execution_count": null,
   "metadata": {},
   "outputs": [],
   "source": [
    "#24263번 알고리즘 수업- 알고리즘의 수행시간 5\n",
    "n = int(input())\n",
    "\n",
    "print(n**3)\n",
    "print(3)"
   ]
  },
  {
   "cell_type": "code",
   "execution_count": null,
   "metadata": {},
   "outputs": [],
   "source": [
    "#24263번 알고리즘 수업- 알고리즘의 수행시간 6\n",
    "n = int(input())\n",
    "\n",
    "a = 0\n",
    "\n",
    "for i in range(n-2):\n",
    "\n",
    "    a += (n-(i+1))*(n-(i+2))//2\n",
    "\n",
    "print(int(a))\n",
    "\n",
    "print(3)"
   ]
  },
  {
   "cell_type": "code",
   "execution_count": 3,
   "metadata": {},
   "outputs": [
    {
     "name": "stdout",
     "output_type": "stream",
     "text": [
      "1\n"
     ]
    }
   ],
   "source": [
    "#24313번 알고리즘 수업- 점근적 표기1\n",
    "a1, a0 = map(int, input().split())\n",
    "c = int(input())\n",
    "n = int(input())\n",
    "if a1 * n + a0<= c*n and c>=a1:\n",
    "    print(1)\n",
    "else:\n",
    "    print(0)"
   ]
  },
  {
   "cell_type": "code",
   "execution_count": 19,
   "metadata": {},
   "outputs": [
    {
     "name": "stdout",
     "output_type": "stream",
     "text": [
      "497\n"
     ]
    }
   ],
   "source": [
    "#2798번 블랙잭\n",
    "N, M = map(int, input().split())\n",
    "arr = list(map(int, input().split()))\n",
    "middle= M\n",
    "answer = 0\n",
    "for i in range(N-2):\n",
    "    for j in range(i+1, N-1):\n",
    "        for k in range(j+1,len(arr)):\n",
    "            total = arr[i] + arr[j] + arr[k]\n",
    "            if middle>= M- total and M-total>=0:\n",
    "                middle = M - total\n",
    "                answer = total\n",
    "print(answer)\n"
   ]
  },
  {
   "cell_type": "code",
   "execution_count": 3,
   "metadata": {},
   "outputs": [
    {
     "name": "stdout",
     "output_type": "stream",
     "text": [
      "198\n"
     ]
    }
   ],
   "source": [
    "#2231번 분해합\n",
    "N = int(input())\n",
    "for i in range(max(0,N-len(str(N))*9),N): ##최적화를 위해 시작 길이를 지정\n",
    "    arr=list(str(i))\n",
    "    total = 0\n",
    "    for j in arr:\n",
    "        total += int(j)\n",
    "    if N == i + total:\n",
    "        print(i)\n",
    "        break\n",
    "    elif i ==N-1:\n",
    "        print(0)\n",
    "        break\n",
    "            "
   ]
  },
  {
   "cell_type": "code",
   "execution_count": 23,
   "metadata": {},
   "outputs": [
    {
     "name": "stdout",
     "output_type": "stream",
     "text": [
      "2 -1\n"
     ]
    }
   ],
   "source": [
    "#19532번 수학은 비대면강의입니다.\n",
    "a, b, c, d, e, f = map(int, input().split())\n",
    "x = 0\n",
    "y = 0\n",
    "y = (c*d - f*a) // (b*d-a*e)\n",
    "x = (c*e - b*f) // (a*e - b*d)\n",
    "print(x,y)"
   ]
  },
  {
   "cell_type": "code",
   "execution_count": 9,
   "metadata": {},
   "outputs": [
    {
     "name": "stdout",
     "output_type": "stream",
     "text": [
      "1\n"
     ]
    }
   ],
   "source": [
    "#1018번 체스판 다시 칠하기\n",
    "\n",
    "# M, N = map(int, input().split())\n",
    "# arr = [[] for _ in range (N)]\n",
    "# chess = [[] for _ in range(8)]\n",
    "# answer = 0\n",
    "# start_B = 'BWBWBWBW'\n",
    "# start_W = 'WBWBWBWB'\n",
    "# for i in range(N):\n",
    "#     arr[i] = list(str(input()))\n",
    "\n",
    "# for j in range(M-7):\n",
    "#     for l in range(N-7):\n",
    "#         count = 0\n",
    "#         for k in range(8):\n",
    "#             chess[k] = arr[j+k][l:l+7]\n",
    "#             for o in range(7):\n",
    "#                 if k == 0:\n",
    "#                     if chess[k][0] == 'B' :\n",
    "#                         if chess[k][o] != start_B[o]:\n",
    "#                             count += 1\n",
    "#                     elif chess[k][0] == 'W' :\n",
    "#                         if chess[k][o] != start_W[o]:\n",
    "#                             count += 1\n",
    "#                 elif k>0:\n",
    "#                     if chess[k-1][0] == chess[k][0] == 'W' :\n",
    "#                         chess[k][0] == 'B'\n",
    "#                         count += 1\n",
    "#                     elif chess[k-1][0] == chess[k][0] == 'B' :\n",
    "#                         chess[k][0] == 'W'\n",
    "#                         count += 1\n",
    "#                     if chess[k][0] == 'B' :\n",
    "#                         if chess[k][o] != start_B[o]:\n",
    "#                             count += 1\n",
    "#                     elif chess[k][0] == 'W' :\n",
    "#                         if chess[k][o] != start_W[o]:\n",
    "#                             count += 1\n",
    "#         if j == 0 and l == 0:\n",
    "#             answer =count\n",
    "#         else:\n",
    "#             if answer>count:\n",
    "#                 answer = count\n",
    "# print(answer)    개뻘짓의 결과\n",
    "M, N = map(int, input().split())\n",
    "arr = [input().strip() for _ in range(M)]\n",
    "\n",
    "def count_repaints(x, y, start_color):\n",
    "    count = 0\n",
    "    for i in range(8):\n",
    "        for j in range(8):\n",
    "            if (i + j) % 2 == 0:\n",
    "                if arr[x + i][y + j] != start_color:\n",
    "                    count += 1\n",
    "            else:\n",
    "                if arr[x + i][y + j] == start_color:\n",
    "                    count += 1\n",
    "    return count\n",
    "\n",
    "min_paint = float('inf')\n",
    "for i in range(M - 7):\n",
    "    for j in range(N - 7):\n",
    "        repaints_w = count_repaints(i, j, 'W')\n",
    "        repaints_b = count_repaints(i, j, 'B')\n",
    "        min_paint = min(min_paint, repaints_w, repaints_b)\n",
    "\n",
    "print(min_paint)\n"
   ]
  },
  {
   "cell_type": "code",
   "execution_count": 5,
   "metadata": {},
   "outputs": [
    {
     "name": "stdout",
     "output_type": "stream",
     "text": [
      "66666\n"
     ]
    }
   ],
   "source": [
    "#1436번 영화감독 숌\n",
    "N = int(input())\n",
    "#666 1666 2666 3666 4666 5666 6666 6667 6668 6669 7666 8666 9666 10666 11666 12666\n",
    "#13666 14666 15666 16666 16667 16668 16669 17666 18666 19666 20666 \n",
    "key = '666'\n",
    "answer = 0\n",
    "i = 666\n",
    "count = 0\n",
    "while(1):\n",
    "    if key in str(i):\n",
    "        count += 1\n",
    "        answer = i\n",
    "    if count == N:\n",
    "        break\n",
    "    i +=+1\n",
    "print(answer)"
   ]
  },
  {
   "cell_type": "code",
   "execution_count": 11,
   "metadata": {},
   "outputs": [
    {
     "name": "stdout",
     "output_type": "stream",
     "text": [
      "3\n"
     ]
    }
   ],
   "source": [
    "#2839번 설탕배달\n",
    "N = int(input())\n",
    "end_3 = N // 3 + 1\n",
    "end_5 = N //5 + 1\n",
    "arr = []\n",
    "for i in range(end_5):\n",
    "    for j in range(end_3):\n",
    "        if i*5 + j*3 ==N:\n",
    "            arr.append(i+j)\n",
    "if len(arr) == 0:\n",
    "    print(-1)\n",
    "else:\n",
    "    print(min(arr))"
   ]
  },
  {
   "cell_type": "code",
   "execution_count": 13,
   "metadata": {},
   "outputs": [
    {
     "name": "stdout",
     "output_type": "stream",
     "text": [
      "[1, 2, 3, 4, 5]\n"
     ]
    }
   ],
   "source": [
    "#2750번 수 정렬하기\n",
    "N = int(input())\n",
    "arr = []\n",
    "for i in range(N):\n",
    "    num = int(input())\n",
    "    arr.append(num)\n",
    "    \n",
    "#버블 정렬을 통해 구현\n",
    "for j in range(N-1):\n",
    "    for k in range(N-j-1):\n",
    "        if arr[k]>arr[k+1]:\n",
    "            arr[k], arr[k+1] = arr[k+1], arr[k]\n",
    "for l in arr:\n",
    "    print(l)"
   ]
  },
  {
   "cell_type": "code",
   "execution_count": 9,
   "metadata": {},
   "outputs": [
    {
     "name": "stdout",
     "output_type": "stream",
     "text": [
      "34\n",
      "30\n"
     ]
    }
   ],
   "source": [
    "arr = []\n",
    "avg = 0\n",
    "for _ in range(5):\n",
    "    N = int(input())\n",
    "    arr.append(N)\n",
    "    avg += N\n",
    "def select_sort(arr=[]):\n",
    "    n = len(arr)\n",
    "    for i in range(n):\n",
    "        min_index= i\n",
    "        for j in range(i+1, n):\n",
    "            if arr[j]<arr[min_index]:\n",
    "                min_index = j\n",
    "        arr[i], arr[min_index] = arr[min_index],arr[i]\n",
    "    print(arr[2])\n",
    "#삽입정렬을 통해 구현\n",
    "print(avg//5)\n",
    "select_sort(arr)\n",
    "\n"
   ]
  },
  {
   "cell_type": "code",
   "execution_count": 22,
   "metadata": {},
   "outputs": [
    {
     "name": "stdout",
     "output_type": "stream",
     "text": [
      "[76, 85, 93, 98, 100]\n",
      "98\n"
     ]
    }
   ],
   "source": [
    "#25035번 커트라인\n",
    "N, x = map(int, input().split())\n",
    "arr = list(map(int, input().split()))\n",
    "def merge_sort(arr):\n",
    "    if len(arr)<2:\n",
    "        return arr\n",
    "    mid = len(arr) // 2\n",
    "    low_arr = merge_sort(arr[:mid])\n",
    "    high_arr = merge_sort(arr[mid:])\n",
    "    \n",
    "    merge_arr = []\n",
    "    l = h = 0\n",
    "    while l< len(low_arr)and h<len(high_arr):\n",
    "        if low_arr[l]<high_arr[h]:\n",
    "            merge_arr.append(low_arr[l])\n",
    "            l+=1\n",
    "        else:\n",
    "            merge_arr.append(high_arr[h])\n",
    "            h += 1\n",
    "    merge_arr += low_arr[l:]\n",
    "    merge_arr += high_arr[h:]\n",
    "    return merge_arr\n",
    "#합병 절렬로 구함\n",
    "arr = merge_sort(arr)\n",
    "print(arr[N-x])\n",
    "\n"
   ]
  },
  {
   "cell_type": "code",
   "execution_count": 6,
   "metadata": {},
   "outputs": [
    {
     "name": "stdout",
     "output_type": "stream",
     "text": [
      "3\n",
      "3\n",
      "4\n",
      "5\n",
      "6\n",
      "6\n",
      "7\n",
      "9\n",
      "10\n",
      "85\n"
     ]
    }
   ],
   "source": [
    "#2751번 수 정렬하기 2\n",
    "import sys\n",
    "N = int(input())\n",
    "arr = []\n",
    "for i in range(N):\n",
    "    num  = int(sys.stdin.readline())\n",
    "    arr.append(num)\n",
    "def merge_sort(arr):\n",
    "    if len(arr)<2:\n",
    "        return arr\n",
    "    mid = len(arr) // 2\n",
    "    low_arr = merge_sort(arr[:mid])\n",
    "    high_arr = merge_sort(arr[mid:])\n",
    "    \n",
    "    merge_arr = []\n",
    "    l = h = 0\n",
    "    while l< len(low_arr)and h<len(high_arr):\n",
    "        if low_arr[l]<high_arr[h]:\n",
    "            merge_arr.append(low_arr[l])\n",
    "            l+=1\n",
    "        else:\n",
    "            merge_arr.append(high_arr[h])\n",
    "            h += 1\n",
    "    merge_arr += low_arr[l:]\n",
    "    merge_arr += high_arr[h:]\n",
    "    return merge_arr\n",
    "arr = merge_sort(arr)\n",
    "for j in arr:\n",
    "    print(j)"
   ]
  },
  {
   "cell_type": "code",
   "execution_count": 14,
   "metadata": {},
   "outputs": [
    {
     "name": "stdout",
     "output_type": "stream",
     "text": [
      "6\n",
      "10\n"
     ]
    }
   ],
   "source": [
    "#2775번 부녀회장이 될테야\n",
    "T = int(input())\n",
    "for _ in range(T):\n",
    "    k = int(input())\n",
    "    n = int(input())\n",
    "    base_floor = [i for i in range(1,n+1)]\n",
    "    k_floor = [0 for _ in range(1,n+1)]\n",
    "    for i in range(k):\n",
    "        k_floor[0] = base_floor[0]\n",
    "        for j in range(1,n):\n",
    "            k_floor[j] = k_floor[j-1] + base_floor[j]\n",
    "        base_floor = k_floor\n",
    "    print(base_floor[-1])"
   ]
  },
  {
   "cell_type": "code",
   "execution_count": 16,
   "metadata": {},
   "outputs": [
    {
     "name": "stdout",
     "output_type": "stream",
     "text": [
      "10\n"
     ]
    }
   ],
   "source": [
    "#11050번 이항계수 1\n",
    "n, k = map(int, input().split())\n",
    "if k == 0:\n",
    "    print(0)\n",
    "else:\n",
    "    result_n = 0\n",
    "    result_k = 0\n",
    "    for i in range(k):\n",
    "        if i == 0:\n",
    "            result_k = k\n",
    "            result_n = n\n",
    "        else:\n",
    "            result_k *= k-i\n",
    "            result_n *= n-i\n",
    "    print(result_n // result_k)"
   ]
  },
  {
   "cell_type": "code",
   "execution_count": null,
   "metadata": {},
   "outputs": [],
   "source": [
    "#1181번 단어정렬\n",
    "import sys\n",
    "\n",
    "T = int(sys.stdin.readline().strip())\n",
    "\n",
    "result = []\n",
    "arr =[]\n",
    "\n",
    "for i in range (T) :\n",
    "    a = sys.stdin.readline().strip()\n",
    "    if a not in arr:\n",
    "        result.append(a)\n",
    "        arr.append(a)\n",
    "\n",
    "\n",
    "result.sort()\n",
    "result.sort(key=len)\n",
    "\n",
    "print(\"\\n\".join(result))"
   ]
  },
  {
   "cell_type": "code",
   "execution_count": null,
   "metadata": {},
   "outputs": [],
   "source": [
    "#10814번 나이순 정렬\n",
    "import sys\n",
    "\n",
    "N = int(sys.stdin.readline().strip())\n",
    "result = []\n",
    "\n",
    "for i in range(N):\n",
    "\tnum, name = map(str, input().split())\n",
    "\tnum = int(num)\n",
    "\tarr = [num, i, name]\n",
    "\tresult.append(arr)\n",
    "    \n",
    "result.sort(key = lambda x:x[0])\n",
    "for j in result:\n",
    "    print(str(j[0]),j[2])\n"
   ]
  },
  {
   "cell_type": "code",
   "execution_count": null,
   "metadata": {},
   "outputs": [],
   "source": [
    "#11650번 좌표 정렬하기\n",
    "import sys\n",
    "result =[]\n",
    "N = int(sys.stdin.readline().strip())\n",
    "for i in range(N):\n",
    "    x,y = int(sys.stdin.readline().strip().split())\n",
    "    arr = [x,y]\n",
    "    result.append(arr)\n",
    "result.sort(key = lambda x:(x[0],x[1]))\n",
    "for j in result:\n",
    "    print(j[0], j[1])\n",
    "    \n",
    "    "
   ]
  },
  {
   "cell_type": "code",
   "execution_count": null,
   "metadata": {},
   "outputs": [],
   "source": [
    "#1920번 수 찾기\n",
    "import sys\n",
    "N = int(input())\n",
    "A = list(map(int, input().split(\" \")))\n",
    "M = int(input())\n",
    "arr = list(map(int, input().split(\" \")))\n",
    "A.sort()\n",
    "def binary_search(target, data):\n",
    "    \n",
    "    start = 0 \t\t\t# 맨 처음 위치\n",
    "    end = len(data) - 1 \t# 맨 마지막 위치\n",
    "\n",
    "    while start <= end:\n",
    "        mid = (start + end) // 2 # 중간값\n",
    "\n",
    "        if data[mid] == target:\n",
    "            return mid \t\t# target 위치 반환\n",
    "\n",
    "        elif data[mid] > target: # target이 작으면 왼쪽을 더 탐색\n",
    "            end = mid - 1\n",
    "        else:                    # target이 크면 오른쪽을 더 탐색\n",
    "            start = mid + 1\n",
    "    return\n",
    "for i in range(M):\n",
    "\t\n",
    "    if binary_search(arr[i], A) == None:\n",
    "       print(0)\n",
    "    else:\n",
    "       print(1)"
   ]
  },
  {
   "cell_type": "code",
   "execution_count": 37,
   "metadata": {},
   "outputs": [
    {
     "name": "stdout",
     "output_type": "stream",
     "text": [
      "1\n"
     ]
    }
   ],
   "source": [
    "#2164번 카드2\n",
    "from collections import deque\n",
    "N = int(input())\n",
    "if N ==1:\n",
    "    print(1)\n",
    "else:\n",
    "    arr = deque([2*i+2 for i in range(N//2)])\n",
    "    while len(arr)>1:\n",
    "        if N % 2 == 0:\n",
    "                arr.popleft()\n",
    "                arr.append(arr.popleft())\n",
    "        else:\n",
    "                arr.append(arr.popleft())\n",
    "                arr.popleft()\n",
    "        \n",
    "    print(arr[0])\n",
    "#다른버전\n",
    "from collections import deque\n",
    "\n",
    "N = int(input())\n",
    "arr = deque(range(1, N + 1))  # 1부터 N까지의 숫자를 deque에 넣음\n",
    "\n",
    "while len(arr) > 1:\n",
    "    arr.popleft()            # 첫 번째 카드 버림\n",
    "    arr.append(arr.popleft()) # 두 번째 카드를 뒤로 이동\n",
    "\n",
    "print(arr[0])"
   ]
  },
  {
   "cell_type": "code",
   "execution_count": 6,
   "metadata": {},
   "outputs": [
    {
     "name": "stdout",
     "output_type": "stream",
     "text": [
      "NO\n"
     ]
    }
   ],
   "source": [
    "#9012번 괄호\n",
    "T = int(input())\n",
    "for _ in range(T):\n",
    "    arr = list(input())\n",
    "    stack = []\n",
    "    for i in arr:\n",
    "        if i == '(':\n",
    "            stack.append(i)\n",
    "        else:\n",
    "            if len(stack) == 0:\n",
    "                stack.append(i)\n",
    "            elif stack[len(stack)] == '(':\n",
    "                stack.pop()\n",
    "    if len(stack) == 0:\n",
    "        print('YES')\n",
    "    else:\n",
    "        print('NO')"
   ]
  },
  {
   "cell_type": "code",
   "execution_count": null,
   "metadata": {},
   "outputs": [],
   "source": [
    "#숫자 카드 2\n",
    "N = int(input())\n",
    "card = list(map(int, input().split()))\n",
    "M = int(input())\n",
    "num = list(map(int, input().split()))\n",
    "card.sort()\n",
    "arr =[]\n",
    "def binary_search_count(arr, target):\n",
    "    start = 0\n",
    "    end = len(arr)-1\n",
    "    \n",
    "    while start<= end:\n",
    "        mid = (start+end)//2\n",
    "        if arr[mid] == target:\n",
    "            \n",
    "            \n",
    "        elif arr[mid] > target: # target이 작으면 왼쪽을 더 탐색\n",
    "            end = mid - 1\n",
    "        else:                    # target이 크면 오른쪽을 더 탐색\n",
    "            start = mid + 1\n",
    "    return count\n",
    "\n",
    "for i in range(M):\n",
    "    arr.append(binary_search_count(card, num[i])) \n",
    "    print(arr[i], end =' ')\n",
    "#이게 뭔데 대체\n",
    "\n",
    "def lower_bound(arr, target):\n",
    "    start, end = 0, len(arr)\n",
    "    while start < end:\n",
    "        mid = (start + end) // 2\n",
    "        if arr[mid] < target:\n",
    "            start = mid + 1\n",
    "        else:\n",
    "            end = mid\n",
    "    return start\n",
    "\n",
    "def upper_bound(arr, target):\n",
    "    start, end = 0, len(arr)\n",
    "    while start < end:\n",
    "        mid = (start + end) // 2\n",
    "        if arr[mid] <= target:\n",
    "            start = mid + 1\n",
    "        else:\n",
    "            end = mid\n",
    "    return start\n",
    "\n",
    "def count_by_range(arr, target):\n",
    "    left_index = lower_bound(arr, target)\n",
    "    right_index = upper_bound(arr, target)\n",
    "    return right_index - left_index\n",
    "\n",
    "N = int(input())\n",
    "card = list(map(int, input().split()))\n",
    "M = int(input())\n",
    "num = list(map(int, input().split()))\n",
    "\n",
    "# 카드 리스트를 정렬합니다.\n",
    "card.sort()\n",
    "\n",
    "for i in range(M):\n",
    "    count = count_by_range(card, num[i])\n",
    "    print(count, end=' ')\n"
   ]
  },
  {
   "cell_type": "code",
   "execution_count": 15,
   "metadata": {},
   "outputs": [
    {
     "ename": "ValueError",
     "evalue": "invalid literal for int() with base 10: ''",
     "output_type": "error",
     "traceback": [
      "\u001b[1;31m---------------------------------------------------------------------------\u001b[0m",
      "\u001b[1;31mValueError\u001b[0m                                Traceback (most recent call last)",
      "Cell \u001b[1;32mIn[15], line 24\u001b[0m\n\u001b[0;32m     21\u001b[0m     \u001b[38;5;28;01melse\u001b[39;00m:\n\u001b[0;32m     22\u001b[0m         \u001b[38;5;28mprint\u001b[39m(arr[\u001b[38;5;241m-\u001b[39m\u001b[38;5;241m1\u001b[39m])\n\u001b[1;32m---> 24\u001b[0m N \u001b[38;5;241m=\u001b[39m \u001b[38;5;28;43mint\u001b[39;49m\u001b[43m(\u001b[49m\u001b[38;5;28;43minput\u001b[39;49m\u001b[43m(\u001b[49m\u001b[43m)\u001b[49m\u001b[43m)\u001b[49m\n\u001b[0;32m     25\u001b[0m \u001b[38;5;28;01mfor\u001b[39;00m _ \u001b[38;5;129;01min\u001b[39;00m \u001b[38;5;28mrange\u001b[39m(N):\n\u001b[0;32m     26\u001b[0m     arr \u001b[38;5;241m=\u001b[39m[]\n",
      "\u001b[1;31mValueError\u001b[0m: invalid literal for int() with base 10: ''"
     ]
    }
   ],
   "source": [
    "#10828번 스택\n",
    "arr =[]\n",
    "def push(arr,x):\n",
    "    arr.append(x)\n",
    "    \n",
    "def pop(arr):\n",
    "    if len(arr) == 0:\n",
    "        print(-1)\n",
    "    else:\n",
    "        a=arr.pop()\n",
    "        print(a)\n",
    "def size(arr):\n",
    "    print(len(arr))\n",
    "def empty(arr):\n",
    "    if len(arr) == 0:\n",
    "        print(1)\n",
    "    else:\n",
    "        print(0)\n",
    "def top(arr):\n",
    "    if len(arr) == 0:\n",
    "        print(-1)\n",
    "    else:\n",
    "        print(arr[-1])\n",
    "\n",
    "N = int(input())\n",
    "for _ in range(N):\n",
    "    \n",
    "    order = input().strip()\n",
    "    if ' ' in order:\n",
    "        order, num = order.split()\n",
    "        num = int(num)\n",
    "        arr = push(arr, num)\n",
    "    else:\n",
    "        globals()[order](arr)\n",
    "    \n",
    "        \n",
    "    "
   ]
  },
  {
   "cell_type": "code",
   "execution_count": null,
   "metadata": {},
   "outputs": [],
   "source": [
    "from collections import deque\n",
    "import sys\n",
    "input = sys.stdin.read\n",
    "\n",
    "arr = deque()\n",
    "count = 0\n",
    "\n",
    "def push(x):\n",
    "    global count\n",
    "    arr.append(x)\n",
    "    count += 1\n",
    "\n",
    "def pop():\n",
    "    global count\n",
    "    if count == 0:\n",
    "        print(-1)\n",
    "    else:\n",
    "        n = arr.popleft()\n",
    "        print(n)\n",
    "        count -= 1\n",
    "\n",
    "def size():\n",
    "    print(count)\n",
    "\n",
    "def empty():\n",
    "    if count == 0:\n",
    "        print(1)\n",
    "    else:\n",
    "        print(0)\n",
    "\n",
    "def front():\n",
    "    if count == 0:\n",
    "        print(-1)\n",
    "    else:\n",
    "        print(arr[0])\n",
    "\n",
    "def back():\n",
    "    if count == 0:\n",
    "        print(-1)\n",
    "    else:\n",
    "        print(arr[-1])\n",
    "\n",
    "def main():\n",
    "    global count, arr\n",
    "    data = input().splitlines()\n",
    "    N = int(data[0])\n",
    "    commands = data[1:N+1]\n",
    "\n",
    "    for command in commands:\n",
    "        if command.startswith(\"push\"):\n",
    "            _, num = command.split()\n",
    "            push(int(num))\n",
    "        else:\n",
    "            globals()[command]()\n",
    "\n",
    "if __name__ == \"__main__\":\n",
    "    main()\n"
   ]
  },
  {
   "cell_type": "code",
   "execution_count": 35,
   "metadata": {},
   "outputs": [
    {
     "ename": "ValueError",
     "evalue": "not enough values to unpack (expected 2, got 0)",
     "output_type": "error",
     "traceback": [
      "\u001b[1;31m---------------------------------------------------------------------------\u001b[0m",
      "\u001b[1;31mValueError\u001b[0m                                Traceback (most recent call last)",
      "Cell \u001b[1;32mIn[35], line 2\u001b[0m\n\u001b[0;32m      1\u001b[0m \u001b[38;5;66;03m#11866번 요세푸스 문제 0\u001b[39;00m\n\u001b[1;32m----> 2\u001b[0m N, K \u001b[38;5;241m=\u001b[39m \u001b[38;5;28mmap\u001b[39m(\u001b[38;5;28mint\u001b[39m, \u001b[38;5;28minput\u001b[39m()\u001b[38;5;241m.\u001b[39msplit())\n\u001b[0;32m      3\u001b[0m arr\u001b[38;5;241m=\u001b[39m [i \u001b[38;5;28;01mfor\u001b[39;00m i \u001b[38;5;129;01min\u001b[39;00m \u001b[38;5;28mrange\u001b[39m(\u001b[38;5;241m1\u001b[39m,N\u001b[38;5;241m+\u001b[39m\u001b[38;5;241m1\u001b[39m)]\n\u001b[0;32m      4\u001b[0m answer \u001b[38;5;241m=\u001b[39m []\n",
      "\u001b[1;31mValueError\u001b[0m: not enough values to unpack (expected 2, got 0)"
     ]
    }
   ],
   "source": [
    "#11866번 요세푸스 문제 0\n",
    "N, K = map(int, input().split())\n",
    "arr= [i for i in range(1,N+1)]\n",
    "answer = []\n",
    "pointer = 0\n",
    "K = K-1\n",
    "while True:\n",
    "    if len(arr) ==0 :\n",
    "        break\n",
    "    if pointer+K>=len(arr):\n",
    "        pointer  = (pointer+K)%len(arr)\n",
    "    else:\n",
    "        pointer = pointer + K\n",
    "    q=arr.pop(pointer)\n",
    "    answer.append(q)\n",
    "print('<', end ='')\n",
    "for j in answer:\n",
    "    if j == answer[-1]:\n",
    "        print(j, end = '')\n",
    "    else:\n",
    "        print(j, end = ', ')\n",
    "\n",
    "print('>')"
   ]
  },
  {
   "cell_type": "code",
   "execution_count": 36,
   "metadata": {},
   "outputs": [
    {
     "ename": "NameError",
     "evalue": "name 'k' is not defined",
     "output_type": "error",
     "traceback": [
      "\u001b[1;31m---------------------------------------------------------------------------\u001b[0m",
      "\u001b[1;31mNameError\u001b[0m                                 Traceback (most recent call last)",
      "Cell \u001b[1;32mIn[36], line 8\u001b[0m\n\u001b[0;32m      6\u001b[0m K \u001b[38;5;241m=\u001b[39m K\u001b[38;5;241m-\u001b[39m\u001b[38;5;241m1\u001b[39m\n\u001b[0;32m      7\u001b[0m \u001b[38;5;28;01mwhile\u001b[39;00m arr: \n\u001b[1;32m----> 8\u001b[0m     arr\u001b[38;5;241m.\u001b[39mrotate(\u001b[38;5;241m-\u001b[39m\u001b[43mk\u001b[49m)\n\u001b[0;32m      9\u001b[0m     answer\u001b[38;5;241m.\u001b[39mappend(arr\u001b[38;5;241m.\u001b[39mpopleft())\n\u001b[0;32m     10\u001b[0m \u001b[38;5;28mprint\u001b[39m(\u001b[38;5;124m'\u001b[39m\u001b[38;5;124m<\u001b[39m\u001b[38;5;124m'\u001b[39m, end\u001b[38;5;241m=\u001b[39m\u001b[38;5;124m'\u001b[39m\u001b[38;5;124m'\u001b[39m)\n",
      "\u001b[1;31mNameError\u001b[0m: name 'k' is not defined"
     ]
    }
   ],
   "source": [
    "#queue 활용\n",
    "from collections import deque\n",
    "N, K = map(int, input().split())\n",
    "arr = deque([i for i in range(1,N+1)])\n",
    "answer = []\n",
    "K = K-1\n",
    "while arr: \n",
    "    arr.rotate(-K)\n",
    "    answer.append(arr.popleft())\n",
    "print('<', end='')\n",
    "print(', '.join(map(str, answer)), end='')\n",
    "print('>')\n"
   ]
  },
  {
   "cell_type": "code",
   "execution_count": null,
   "metadata": {},
   "outputs": [],
   "source": [
    "#1459번 걷기\n",
    "import sys\n",
    "x,y,w,s = map(int, sys.stdin.readline().split())\n",
    "answer = 0\n",
    "if 2*w>s:\n",
    "    if w>s:\n",
    "        if (x+y) %2 == 0:\n",
    "            answer = max(x,y) * s\n",
    "        else:\n",
    "            answer = min(x,y)* s + (abs(x-y)-1)*s+ w\n",
    "    else:\n",
    "        answer = min(x,y) * s + abs(x-y)* w\n",
    "else:\n",
    "    answer = (x+y) * w\n",
    "print(answer)"
   ]
  },
  {
   "cell_type": "code",
   "execution_count": null,
   "metadata": {},
   "outputs": [],
   "source": [
    "import sys\n",
    "input = sys.stdin.readline\n",
    "N = int(input())\n",
    "arr= []\n",
    "for _ in range(N):\n",
    "    t, s = map(int, input().split())\n",
    "    arr.append((t, s))\n",
    "arr.sort(key = lambda x:x[1])\n",
    "start = arr[0][1]- arr[0][0]\n",
    "end = arr[0][1]\n",
    "\n",
    "for i in range(1,N):\n",
    "    if end + arr[i][0] > arr[i][1]:\n",
    "        start -= end + arr[i][0] - arr[i][1]\n",
    "        end = arr[i][1]\n",
    "    else:\n",
    "        end += arr[i][0] \n",
    "    if start < 0:\n",
    "        start = -1\n",
    "        break\n",
    "print(start)"
   ]
  }
 ],
 "metadata": {
  "kernelspec": {
   "display_name": "Python 3",
   "language": "python",
   "name": "python3"
  },
  "language_info": {
   "codemirror_mode": {
    "name": "ipython",
    "version": 3
   },
   "file_extension": ".py",
   "mimetype": "text/x-python",
   "name": "python",
   "nbconvert_exporter": "python",
   "pygments_lexer": "ipython3",
   "version": "3.12.0"
  }
 },
 "nbformat": 4,
 "nbformat_minor": 2
}
